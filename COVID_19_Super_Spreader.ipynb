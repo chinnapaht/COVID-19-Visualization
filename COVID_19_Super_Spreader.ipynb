{
  "nbformat": 4,
  "nbformat_minor": 0,
  "metadata": {
    "colab": {
      "name": "COVID-19 Super Spreader.ipynb",
      "provenance": [],
      "collapsed_sections": [],
      "authorship_tag": "ABX9TyObztw0VHMI11xQfyLzuggG",
      "include_colab_link": true
    },
    "kernelspec": {
      "name": "python3",
      "display_name": "Python 3"
    }
  },
  "cells": [
    {
      "cell_type": "markdown",
      "metadata": {
        "id": "view-in-github",
        "colab_type": "text"
      },
      "source": [
        "<a href=\"https://colab.research.google.com/github/chinnapaht/COVID-19-Visualization/blob/master/COVID_19_Super_Spreader.ipynb\" target=\"_parent\"><img src=\"https://colab.research.google.com/assets/colab-badge.svg\" alt=\"Open In Colab\"/></a>"
      ]
    },
    {
      "cell_type": "code",
      "metadata": {
        "id": "0LLLAxh6twCM",
        "colab_type": "code",
        "colab": {}
      },
      "source": [
        "import pandas as pd\n",
        "import altair as alt\n",
        "from vega_datasets import data"
      ],
      "execution_count": 0,
      "outputs": []
    },
    {
      "cell_type": "code",
      "metadata": {
        "id": "5WyAkynirwfh",
        "colab_type": "code",
        "outputId": "3b53d12f-48b8-4277-876a-8c7143ec90f4",
        "colab": {
          "base_uri": "https://localhost:8080/",
          "height": 33
        }
      },
      "source": [
        "url=\"https://github.com/chinnapaht/COVID-19-Visualization/blob/master/Covid-19-Clusters.csv\"\n",
        "data1 = pd.read_html(url)[0]\n",
        "patient_by_spreader=data1.groupby([\"ประเทศ\"]).sum()\n",
        "patient=list(patient_by_spreader[\"จำนวนผู้ติดเชื้อ(คน)\"])\n",
        "patient\n"
      ],
      "execution_count": 0,
      "outputs": [
        {
          "output_type": "execute_result",
          "data": {
            "text/plain": [
              "[2482, 656, 91, 49, 61, 2010, 111, 45, 29, 2800, 400]"
            ]
          },
          "metadata": {
            "tags": []
          },
          "execution_count": 284
        }
      ]
    },
    {
      "cell_type": "code",
      "metadata": {
        "id": "wEMVAIVKkhMY",
        "colab_type": "code",
        "outputId": "7216058f-c6d6-4664-dcb8-cf78dd410652",
        "colab": {
          "base_uri": "https://localhost:8080/",
          "height": 375
        }
      },
      "source": [
        "data_countries = {'Country':  [\"China\", 'Japan','France','Singapore','Australia','Italy','Iran','Egypt','Hongkong','South Korea','Germany'],\n",
        "        'latitude': [35.486703, 36.204823,46.227638,1.352083,-25.274399,41.871941,32.4207423,26.8205528,22.3700556,37.5326,52.520008],\n",
        "        'longitude' : [101.901875, 138.252930,2.213749,103.819839,133.775131,12.567380,53.6830157,30.8024979,114.109497,127.024612,13.404954]\n",
        "        }\n",
        "df=pd.DataFrame(data_countries)\n",
        "df[\"Infected\"] = patient\n",
        "df"
      ],
      "execution_count": 0,
      "outputs": [
        {
          "output_type": "execute_result",
          "data": {
            "text/html": [
              "<div>\n",
              "<style scoped>\n",
              "    .dataframe tbody tr th:only-of-type {\n",
              "        vertical-align: middle;\n",
              "    }\n",
              "\n",
              "    .dataframe tbody tr th {\n",
              "        vertical-align: top;\n",
              "    }\n",
              "\n",
              "    .dataframe thead th {\n",
              "        text-align: right;\n",
              "    }\n",
              "</style>\n",
              "<table border=\"1\" class=\"dataframe\">\n",
              "  <thead>\n",
              "    <tr style=\"text-align: right;\">\n",
              "      <th></th>\n",
              "      <th>Country</th>\n",
              "      <th>latitude</th>\n",
              "      <th>longitude</th>\n",
              "      <th>Infected</th>\n",
              "    </tr>\n",
              "  </thead>\n",
              "  <tbody>\n",
              "    <tr>\n",
              "      <th>0</th>\n",
              "      <td>China</td>\n",
              "      <td>35.486703</td>\n",
              "      <td>101.901875</td>\n",
              "      <td>2482</td>\n",
              "    </tr>\n",
              "    <tr>\n",
              "      <th>1</th>\n",
              "      <td>Japan</td>\n",
              "      <td>36.204823</td>\n",
              "      <td>138.252930</td>\n",
              "      <td>656</td>\n",
              "    </tr>\n",
              "    <tr>\n",
              "      <th>2</th>\n",
              "      <td>France</td>\n",
              "      <td>46.227638</td>\n",
              "      <td>2.213749</td>\n",
              "      <td>91</td>\n",
              "    </tr>\n",
              "    <tr>\n",
              "      <th>3</th>\n",
              "      <td>Singapore</td>\n",
              "      <td>1.352083</td>\n",
              "      <td>103.819839</td>\n",
              "      <td>49</td>\n",
              "    </tr>\n",
              "    <tr>\n",
              "      <th>4</th>\n",
              "      <td>Australia</td>\n",
              "      <td>-25.274399</td>\n",
              "      <td>133.775131</td>\n",
              "      <td>61</td>\n",
              "    </tr>\n",
              "    <tr>\n",
              "      <th>5</th>\n",
              "      <td>Italy</td>\n",
              "      <td>41.871941</td>\n",
              "      <td>12.567380</td>\n",
              "      <td>2010</td>\n",
              "    </tr>\n",
              "    <tr>\n",
              "      <th>6</th>\n",
              "      <td>Iran</td>\n",
              "      <td>32.420742</td>\n",
              "      <td>53.683016</td>\n",
              "      <td>111</td>\n",
              "    </tr>\n",
              "    <tr>\n",
              "      <th>7</th>\n",
              "      <td>Egypt</td>\n",
              "      <td>26.820553</td>\n",
              "      <td>30.802498</td>\n",
              "      <td>45</td>\n",
              "    </tr>\n",
              "    <tr>\n",
              "      <th>8</th>\n",
              "      <td>Hongkong</td>\n",
              "      <td>22.370056</td>\n",
              "      <td>114.109497</td>\n",
              "      <td>29</td>\n",
              "    </tr>\n",
              "    <tr>\n",
              "      <th>9</th>\n",
              "      <td>South Korea</td>\n",
              "      <td>37.532600</td>\n",
              "      <td>127.024612</td>\n",
              "      <td>2800</td>\n",
              "    </tr>\n",
              "    <tr>\n",
              "      <th>10</th>\n",
              "      <td>Germany</td>\n",
              "      <td>52.520008</td>\n",
              "      <td>13.404954</td>\n",
              "      <td>400</td>\n",
              "    </tr>\n",
              "  </tbody>\n",
              "</table>\n",
              "</div>"
            ],
            "text/plain": [
              "        Country   latitude   longitude  Infected\n",
              "0         China  35.486703  101.901875      2482\n",
              "1         Japan  36.204823  138.252930       656\n",
              "2        France  46.227638    2.213749        91\n",
              "3     Singapore   1.352083  103.819839        49\n",
              "4     Australia -25.274399  133.775131        61\n",
              "5         Italy  41.871941   12.567380      2010\n",
              "6          Iran  32.420742   53.683016       111\n",
              "7         Egypt  26.820553   30.802498        45\n",
              "8      Hongkong  22.370056  114.109497        29\n",
              "9   South Korea  37.532600  127.024612      2800\n",
              "10      Germany  52.520008   13.404954       400"
            ]
          },
          "metadata": {
            "tags": []
          },
          "execution_count": 285
        }
      ]
    },
    {
      "cell_type": "code",
      "metadata": {
        "id": "mtGgwn_PJ2aW",
        "colab_type": "code",
        "outputId": "fe09480e-ac0b-411a-d90c-1b5a4676dbcc",
        "colab": {
          "base_uri": "https://localhost:8080/",
          "height": 550
        }
      },
      "source": [
        "countries = alt.topo_feature(data.world_110m.url, feature='countries')\n",
        "\n",
        "background = alt.Chart(countries).mark_geoshape(\n",
        "    fill='lightgray',\n",
        "    stroke='white'\n",
        ").properties(\n",
        "    width=1000,\n",
        "    height=500\n",
        ").project('orthographic')\n",
        "points = alt.Chart(df).mark_circle().encode(\n",
        "    latitude='latitude:Q',\n",
        "    longitude='longitude:Q',\n",
        "    size=alt.Size('Infected:Q', title='Number of COVID-19 patients from Super Spread'),\n",
        "    color=\"Country\",\n",
        "    tooltip=['Country:N','Infected:Q']\n",
        ").properties(\n",
        "    title='Number of COVID-19 patients from Super Spread'\n",
        ")\n",
        "background + points\n"
      ],
      "execution_count": 0,
      "outputs": [
        {
          "output_type": "execute_result",
          "data": {
            "text/plain": [
              "alt.LayerChart(...)"
            ],
            "text/html": [
              "\n",
              "<div id=\"altair-viz-6ea39784a23b4bdd92bc990b5b640297\"></div>\n",
              "<script type=\"text/javascript\">\n",
              "  (function(spec, embedOpt){\n",
              "    const outputDiv = document.getElementById(\"altair-viz-6ea39784a23b4bdd92bc990b5b640297\");\n",
              "    const paths = {\n",
              "      \"vega\": \"https://cdn.jsdelivr.net/npm//vega@5?noext\",\n",
              "      \"vega-lib\": \"https://cdn.jsdelivr.net/npm//vega-lib?noext\",\n",
              "      \"vega-lite\": \"https://cdn.jsdelivr.net/npm//vega-lite@4.0.2?noext\",\n",
              "      \"vega-embed\": \"https://cdn.jsdelivr.net/npm//vega-embed@6?noext\",\n",
              "    };\n",
              "\n",
              "    function loadScript(lib) {\n",
              "      return new Promise(function(resolve, reject) {\n",
              "        var s = document.createElement('script');\n",
              "        s.src = paths[lib];\n",
              "        s.async = true;\n",
              "        s.onload = () => resolve(paths[lib]);\n",
              "        s.onerror = () => reject(`Error loading script: ${paths[lib]}`);\n",
              "        document.getElementsByTagName(\"head\")[0].appendChild(s);\n",
              "      });\n",
              "    }\n",
              "\n",
              "    function showError(err) {\n",
              "      outputDiv.innerHTML = `<div class=\"error\" style=\"color:red;\">${err}</div>`;\n",
              "      throw err;\n",
              "    }\n",
              "\n",
              "    function displayChart(vegaEmbed) {\n",
              "      vegaEmbed(outputDiv, spec, embedOpt)\n",
              "        .catch(err => showError(`Javascript Error: ${err.message}<br>This usually means there's a typo in your chart specification. See the javascript console for the full traceback.`));\n",
              "    }\n",
              "\n",
              "    if(typeof define === \"function\" && define.amd) {\n",
              "      requirejs.config({paths});\n",
              "      require([\"vega-embed\"], displayChart, err => showError(`Error loading script: ${err.message}`));\n",
              "    } else if (typeof vegaEmbed === \"function\") {\n",
              "      displayChart(vegaEmbed);\n",
              "    } else {\n",
              "      loadScript(\"vega\")\n",
              "        .then(() => loadScript(\"vega-lite\"))\n",
              "        .then(() => loadScript(\"vega-embed\"))\n",
              "        .catch(showError)\n",
              "        .then(() => displayChart(vegaEmbed));\n",
              "    }\n",
              "  })({\"config\": {\"view\": {\"continuousWidth\": 400, \"continuousHeight\": 300}}, \"layer\": [{\"data\": {\"url\": \"https://vega.github.io/vega-datasets/data/world-110m.json\", \"format\": {\"feature\": \"countries\", \"type\": \"topojson\"}}, \"mark\": {\"type\": \"geoshape\", \"fill\": \"lightgray\", \"stroke\": \"white\"}, \"height\": 500, \"projection\": {\"type\": \"orthographic\"}, \"width\": 1000}, {\"data\": {\"name\": \"data-d8f61d6ad390f2ee2c10c0ee5d1c9a24\"}, \"mark\": \"circle\", \"encoding\": {\"color\": {\"type\": \"nominal\", \"field\": \"Country\"}, \"latitude\": {\"field\": \"latitude\", \"type\": \"quantitative\"}, \"longitude\": {\"field\": \"longitude\", \"type\": \"quantitative\"}, \"size\": {\"type\": \"quantitative\", \"field\": \"Infected\", \"title\": \"Number of COVID-19 patients from Super Spread\"}, \"tooltip\": [{\"type\": \"nominal\", \"field\": \"Country\"}, {\"type\": \"quantitative\", \"field\": \"Infected\"}]}, \"title\": \"Number of COVID-19 patients from Super Spread\"}], \"$schema\": \"https://vega.github.io/schema/vega-lite/v4.0.2.json\", \"datasets\": {\"data-d8f61d6ad390f2ee2c10c0ee5d1c9a24\": [{\"Country\": \"China\", \"latitude\": 35.486703, \"longitude\": 101.901875, \"Infected\": 2482}, {\"Country\": \"Japan\", \"latitude\": 36.204823, \"longitude\": 138.25293, \"Infected\": 656}, {\"Country\": \"France\", \"latitude\": 46.227638, \"longitude\": 2.213749, \"Infected\": 91}, {\"Country\": \"Singapore\", \"latitude\": 1.352083, \"longitude\": 103.819839, \"Infected\": 49}, {\"Country\": \"Australia\", \"latitude\": -25.274399, \"longitude\": 133.775131, \"Infected\": 61}, {\"Country\": \"Italy\", \"latitude\": 41.871941, \"longitude\": 12.56738, \"Infected\": 2010}, {\"Country\": \"Iran\", \"latitude\": 32.4207423, \"longitude\": 53.6830157, \"Infected\": 111}, {\"Country\": \"Egypt\", \"latitude\": 26.8205528, \"longitude\": 30.8024979, \"Infected\": 45}, {\"Country\": \"Hongkong\", \"latitude\": 22.3700556, \"longitude\": 114.109497, \"Infected\": 29}, {\"Country\": \"South Korea\", \"latitude\": 37.5326, \"longitude\": 127.024612, \"Infected\": 2800}, {\"Country\": \"Germany\", \"latitude\": 52.520008, \"longitude\": 13.404954, \"Infected\": 400}]}}, {\"mode\": \"vega-lite\"});\n",
              "</script>"
            ]
          },
          "metadata": {
            "tags": []
          },
          "execution_count": 286
        }
      ]
    },
    {
      "cell_type": "code",
      "metadata": {
        "id": "C4cIBlQLf1q_",
        "colab_type": "code",
        "outputId": "0e537a25-72db-427d-e2f9-e3f247122991",
        "colab": {
          "base_uri": "https://localhost:8080/",
          "height": 548
        }
      },
      "source": [
        "background = alt.Chart(countries).mark_geoshape(\n",
        "    fill='lightgray',\n",
        "    stroke='white'\n",
        ").properties(\n",
        "    width=1000,\n",
        "    height=500\n",
        ").project('equirectangular')\n",
        "points = alt.Chart(df).mark_circle().encode(\n",
        "    latitude='latitude:Q',\n",
        "    longitude='longitude:Q',\n",
        "    size=alt.Size('Infected:Q', title='Number of COVID-19 patients from Super Spread'),\n",
        "    color=\"Country\",\n",
        "    tooltip=['Country:N','Infected:Q']\n",
        ").properties(\n",
        "    title='Number of COVID-19 patients from Super Spread'\n",
        ")\n",
        "background + points\n"
      ],
      "execution_count": 0,
      "outputs": [
        {
          "output_type": "execute_result",
          "data": {
            "text/plain": [
              "alt.LayerChart(...)"
            ],
            "text/html": [
              "\n",
              "<div id=\"altair-viz-4575548a1f07467f997f674fe881ccf4\"></div>\n",
              "<script type=\"text/javascript\">\n",
              "  (function(spec, embedOpt){\n",
              "    const outputDiv = document.getElementById(\"altair-viz-4575548a1f07467f997f674fe881ccf4\");\n",
              "    const paths = {\n",
              "      \"vega\": \"https://cdn.jsdelivr.net/npm//vega@5?noext\",\n",
              "      \"vega-lib\": \"https://cdn.jsdelivr.net/npm//vega-lib?noext\",\n",
              "      \"vega-lite\": \"https://cdn.jsdelivr.net/npm//vega-lite@4.0.2?noext\",\n",
              "      \"vega-embed\": \"https://cdn.jsdelivr.net/npm//vega-embed@6?noext\",\n",
              "    };\n",
              "\n",
              "    function loadScript(lib) {\n",
              "      return new Promise(function(resolve, reject) {\n",
              "        var s = document.createElement('script');\n",
              "        s.src = paths[lib];\n",
              "        s.async = true;\n",
              "        s.onload = () => resolve(paths[lib]);\n",
              "        s.onerror = () => reject(`Error loading script: ${paths[lib]}`);\n",
              "        document.getElementsByTagName(\"head\")[0].appendChild(s);\n",
              "      });\n",
              "    }\n",
              "\n",
              "    function showError(err) {\n",
              "      outputDiv.innerHTML = `<div class=\"error\" style=\"color:red;\">${err}</div>`;\n",
              "      throw err;\n",
              "    }\n",
              "\n",
              "    function displayChart(vegaEmbed) {\n",
              "      vegaEmbed(outputDiv, spec, embedOpt)\n",
              "        .catch(err => showError(`Javascript Error: ${err.message}<br>This usually means there's a typo in your chart specification. See the javascript console for the full traceback.`));\n",
              "    }\n",
              "\n",
              "    if(typeof define === \"function\" && define.amd) {\n",
              "      requirejs.config({paths});\n",
              "      require([\"vega-embed\"], displayChart, err => showError(`Error loading script: ${err.message}`));\n",
              "    } else if (typeof vegaEmbed === \"function\") {\n",
              "      displayChart(vegaEmbed);\n",
              "    } else {\n",
              "      loadScript(\"vega\")\n",
              "        .then(() => loadScript(\"vega-lite\"))\n",
              "        .then(() => loadScript(\"vega-embed\"))\n",
              "        .catch(showError)\n",
              "        .then(() => displayChart(vegaEmbed));\n",
              "    }\n",
              "  })({\"config\": {\"view\": {\"continuousWidth\": 400, \"continuousHeight\": 300}}, \"layer\": [{\"data\": {\"url\": \"https://vega.github.io/vega-datasets/data/world-110m.json\", \"format\": {\"feature\": \"countries\", \"type\": \"topojson\"}}, \"mark\": {\"type\": \"geoshape\", \"fill\": \"lightgray\", \"stroke\": \"white\"}, \"height\": 500, \"projection\": {\"type\": \"equirectangular\"}, \"width\": 1000}, {\"data\": {\"name\": \"data-d8f61d6ad390f2ee2c10c0ee5d1c9a24\"}, \"mark\": \"circle\", \"encoding\": {\"color\": {\"type\": \"nominal\", \"field\": \"Country\"}, \"latitude\": {\"field\": \"latitude\", \"type\": \"quantitative\"}, \"longitude\": {\"field\": \"longitude\", \"type\": \"quantitative\"}, \"size\": {\"type\": \"quantitative\", \"field\": \"Infected\", \"title\": \"Number of COVID-19 patients from Super Spread\"}, \"tooltip\": [{\"type\": \"nominal\", \"field\": \"Country\"}, {\"type\": \"quantitative\", \"field\": \"Infected\"}]}, \"title\": \"Number of COVID-19 patients from Super Spread\"}], \"$schema\": \"https://vega.github.io/schema/vega-lite/v4.0.2.json\", \"datasets\": {\"data-d8f61d6ad390f2ee2c10c0ee5d1c9a24\": [{\"Country\": \"China\", \"latitude\": 35.486703, \"longitude\": 101.901875, \"Infected\": 2482}, {\"Country\": \"Japan\", \"latitude\": 36.204823, \"longitude\": 138.25293, \"Infected\": 656}, {\"Country\": \"France\", \"latitude\": 46.227638, \"longitude\": 2.213749, \"Infected\": 91}, {\"Country\": \"Singapore\", \"latitude\": 1.352083, \"longitude\": 103.819839, \"Infected\": 49}, {\"Country\": \"Australia\", \"latitude\": -25.274399, \"longitude\": 133.775131, \"Infected\": 61}, {\"Country\": \"Italy\", \"latitude\": 41.871941, \"longitude\": 12.56738, \"Infected\": 2010}, {\"Country\": \"Iran\", \"latitude\": 32.4207423, \"longitude\": 53.6830157, \"Infected\": 111}, {\"Country\": \"Egypt\", \"latitude\": 26.8205528, \"longitude\": 30.8024979, \"Infected\": 45}, {\"Country\": \"Hongkong\", \"latitude\": 22.3700556, \"longitude\": 114.109497, \"Infected\": 29}, {\"Country\": \"South Korea\", \"latitude\": 37.5326, \"longitude\": 127.024612, \"Infected\": 2800}, {\"Country\": \"Germany\", \"latitude\": 52.520008, \"longitude\": 13.404954, \"Infected\": 400}]}}, {\"mode\": \"vega-lite\"});\n",
              "</script>"
            ]
          },
          "metadata": {
            "tags": []
          },
          "execution_count": 287
        }
      ]
    }
  ]
}