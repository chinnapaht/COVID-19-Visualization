{
 "cells": [
  {
   "cell_type": "code",
   "execution_count": 70,
   "metadata": {
    "scrolled": true
   },
   "outputs": [
    {
     "data": {
      "text/html": [
       "\n",
       "<div id=\"altair-viz-783f7bc9e8a44ffd8a566e87fd435781\"></div>\n",
       "<script type=\"text/javascript\">\n",
       "  (function(spec, embedOpt){\n",
       "    const outputDiv = document.getElementById(\"altair-viz-783f7bc9e8a44ffd8a566e87fd435781\");\n",
       "    const paths = {\n",
       "      \"vega\": \"https://cdn.jsdelivr.net/npm//vega@5?noext\",\n",
       "      \"vega-lib\": \"https://cdn.jsdelivr.net/npm//vega-lib?noext\",\n",
       "      \"vega-lite\": \"https://cdn.jsdelivr.net/npm//vega-lite@4.0.2?noext\",\n",
       "      \"vega-embed\": \"https://cdn.jsdelivr.net/npm//vega-embed@6?noext\",\n",
       "    };\n",
       "\n",
       "    function loadScript(lib) {\n",
       "      return new Promise(function(resolve, reject) {\n",
       "        var s = document.createElement('script');\n",
       "        s.src = paths[lib];\n",
       "        s.async = true;\n",
       "        s.onload = () => resolve(paths[lib]);\n",
       "        s.onerror = () => reject(`Error loading script: ${paths[lib]}`);\n",
       "        document.getElementsByTagName(\"head\")[0].appendChild(s);\n",
       "      });\n",
       "    }\n",
       "\n",
       "    function showError(err) {\n",
       "      outputDiv.innerHTML = `<div class=\"error\" style=\"color:red;\">${err}</div>`;\n",
       "      throw err;\n",
       "    }\n",
       "\n",
       "    function displayChart(vegaEmbed) {\n",
       "      vegaEmbed(outputDiv, spec, embedOpt)\n",
       "        .catch(err => showError(`Javascript Error: ${err.message}<br>This usually means there's a typo in your chart specification. See the javascript console for the full traceback.`));\n",
       "    }\n",
       "\n",
       "    if(typeof define === \"function\" && define.amd) {\n",
       "      requirejs.config({paths});\n",
       "      require([\"vega-embed\"], displayChart, err => showError(`Error loading script: ${err.message}`));\n",
       "    } else if (typeof vegaEmbed === \"function\") {\n",
       "      displayChart(vegaEmbed);\n",
       "    } else {\n",
       "      loadScript(\"vega\")\n",
       "        .then(() => loadScript(\"vega-lite\"))\n",
       "        .then(() => loadScript(\"vega-embed\"))\n",
       "        .catch(showError)\n",
       "        .then(() => displayChart(vegaEmbed));\n",
       "    }\n",
       "  })({\"config\": {\"view\": {\"continuousWidth\": 400, \"continuousHeight\": 300}}, \"data\": {\"name\": \"data-73ae9717fce1afaee495c8647c1a5b53\"}, \"mark\": \"bar\", \"encoding\": {\"color\": {\"type\": \"nominal\", \"field\": \"recover\", \"scale\": {\"scheme\": \"pastel1\"}}, \"column\": {\"type\": \"nominal\", \"field\": \"treat\"}, \"x\": {\"type\": \"ordinal\", \"field\": \"age\"}, \"y\": {\"type\": \"quantitative\", \"aggregate\": \"count\", \"field\": \"age\"}}, \"$schema\": \"https://vega.github.io/schema/vega-lite/v4.0.2.json\", \"datasets\": {\"data-73ae9717fce1afaee495c8647c1a5b53\": [{\"age\": 61.0, \"gender\": \"\\u0e2b\\u0e0d\\u0e34\\u0e07\", \"occupation\": \"\\u0e19\\u0e31\\u0e01\\u0e17\\u0e48\\u0e2d\\u0e07\\u0e40\\u0e17\\u0e35\\u0e48\\u0e22\\u0e27\", \"nation\": \"\\u0e08\\u0e35\\u0e19\", \"treat\": \"yes\", \"recover\": \"yes\"}, {\"age\": 74.0, \"gender\": \"\\u0e2b\\u0e0d\\u0e34\\u0e07\", \"occupation\": \"\\u0e19\\u0e31\\u0e01\\u0e17\\u0e48\\u0e2d\\u0e07\\u0e40\\u0e17\\u0e35\\u0e48\\u0e22\\u0e27\", \"nation\": \"\\u0e08\\u0e35\\u0e19\", \"treat\": \"no\", \"recover\": \"yes\"}, {\"age\": 73.0, \"gender\": \"\\u0e2b\\u0e0d\\u0e34\\u0e07\", \"occupation\": \"\\u0e19\\u0e31\\u0e01\\u0e17\\u0e48\\u0e2d\\u0e07\\u0e40\\u0e17\\u0e35\\u0e48\\u0e22\\u0e27\", \"nation\": \"\\u0e44\\u0e17\\u0e22\", \"treat\": \"no\", \"recover\": \"yes\"}, {\"age\": 68.0, \"gender\": \"\\u0e0a\\u0e32\\u0e22\", \"occupation\": \"\\u0e19\\u0e31\\u0e01\\u0e17\\u0e48\\u0e2d\\u0e07\\u0e40\\u0e17\\u0e35\\u0e48\\u0e22\\u0e27\", \"nation\": \"\\u0e08\\u0e35\\u0e19\", \"treat\": \"no\", \"recover\": \"yes\"}, {\"age\": 66.0, \"gender\": \"\\u0e2b\\u0e0d\\u0e34\\u0e07\", \"occupation\": \"\\u0e19\\u0e31\\u0e01\\u0e17\\u0e48\\u0e2d\\u0e07\\u0e40\\u0e17\\u0e35\\u0e48\\u0e22\\u0e27\", \"nation\": \"\\u0e08\\u0e35\\u0e19\", \"treat\": \"no\", \"recover\": \"yes\"}, {\"age\": 33.0, \"gender\": \"\\u0e2b\\u0e0d\\u0e34\\u0e07\", \"occupation\": \"\\u0e19\\u0e31\\u0e01\\u0e17\\u0e48\\u0e2d\\u0e07\\u0e40\\u0e17\\u0e35\\u0e48\\u0e22\\u0e27\", \"nation\": \"\\u0e08\\u0e35\\u0e19\", \"treat\": \"no\", \"recover\": \"yes\"}, {\"age\": 57.0, \"gender\": \"\\u0e2b\\u0e0d\\u0e34\\u0e07\", \"occupation\": \"\\u0e19\\u0e31\\u0e01\\u0e17\\u0e48\\u0e2d\\u0e07\\u0e40\\u0e17\\u0e35\\u0e48\\u0e22\\u0e27\", \"nation\": \"\\u0e08\\u0e35\\u0e19\", \"treat\": \"yes\", \"recover\": \"no\"}, {\"age\": 73.0, \"gender\": \"\\u0e2b\\u0e0d\\u0e34\\u0e07\", \"occupation\": \"\\u0e1c\\u0e2d. \\u0e42\\u0e23\\u0e07\\u0e1e\\u0e22\\u0e32\\u0e1a\\u0e32\\u0e25\", \"nation\": \"\\u0e08\\u0e35\\u0e19\", \"treat\": \"no\", \"recover\": \"yes\"}, {\"age\": 63.0, \"gender\": \"\\u0e0a\\u0e32\\u0e22\", \"occupation\": \"\\u0e19\\u0e31\\u0e01\\u0e17\\u0e48\\u0e2d\\u0e07\\u0e40\\u0e17\\u0e35\\u0e48\\u0e22\\u0e27\", \"nation\": \"\\u0e08\\u0e35\\u0e19\", \"treat\": \"no\", \"recover\": \"yes\"}, {\"age\": 28.0, \"gender\": \"\\u0e44\\u0e21\\u0e48\\u0e23\\u0e30\\u0e1a\\u0e38\", \"occupation\": \"\\u0e19\\u0e31\\u0e01\\u0e17\\u0e48\\u0e2d\\u0e07\\u0e40\\u0e17\\u0e35\\u0e48\\u0e22\\u0e27\", \"nation\": \"\\u0e08\\u0e35\\u0e19\", \"treat\": \"yes\", \"recover\": \"no\"}, {\"age\": 33.0, \"gender\": \"\\u0e44\\u0e21\\u0e48\\u0e23\\u0e30\\u0e1a\\u0e38\", \"occupation\": \"\\u0e19\\u0e31\\u0e01\\u0e17\\u0e48\\u0e2d\\u0e07\\u0e40\\u0e17\\u0e35\\u0e48\\u0e22\\u0e27\", \"nation\": \"\\u0e08\\u0e35\\u0e19\", \"treat\": \"yes\", \"recover\": \"no\"}, {\"age\": 61.0, \"gender\": \"\\u0e44\\u0e21\\u0e48\\u0e23\\u0e30\\u0e1a\\u0e38\", \"occupation\": \"\\u0e19\\u0e31\\u0e01\\u0e17\\u0e48\\u0e2d\\u0e07\\u0e40\\u0e17\\u0e35\\u0e48\\u0e22\\u0e27\", \"nation\": \"\\u0e08\\u0e35\\u0e19\", \"treat\": \"yes\", \"recover\": \"no\"}, {\"age\": 6.0, \"gender\": \"\\u0e44\\u0e21\\u0e48\\u0e23\\u0e30\\u0e1a\\u0e38\", \"occupation\": \"\\u0e19\\u0e31\\u0e01\\u0e17\\u0e48\\u0e2d\\u0e07\\u0e40\\u0e17\\u0e35\\u0e48\\u0e22\\u0e27\", \"nation\": \"\\u0e08\\u0e35\\u0e19\", \"treat\": \"yes\", \"recover\": \"no\"}, {\"age\": 32.0, \"gender\": \"\\u0e44\\u0e21\\u0e48\\u0e23\\u0e30\\u0e1a\\u0e38\", \"occupation\": \"\\u0e19\\u0e31\\u0e01\\u0e17\\u0e48\\u0e2d\\u0e07\\u0e40\\u0e17\\u0e35\\u0e48\\u0e22\\u0e27\", \"nation\": \"\\u0e08\\u0e35\\u0e19\", \"treat\": \"yes\", \"recover\": \"no\"}, {\"age\": 56.0, \"gender\": \"\\u0e0a\\u0e32\\u0e22\", \"occupation\": \"\\u0e19\\u0e31\\u0e01\\u0e17\\u0e48\\u0e2d\\u0e07\\u0e40\\u0e17\\u0e35\\u0e48\\u0e22\\u0e27\", \"nation\": \"\\u0e08\\u0e35\\u0e19\", \"treat\": \"no\", \"recover\": \"yes\"}, {\"age\": 50.0, \"gender\": \"\\u0e0a\\u0e32\\u0e22\", \"occupation\": \"\\u0e42\\u0e0a\\u0e40\\u0e1f\\u0e2d\\u0e23\\u0e4c\\u0e41\\u0e17\\u0e47\\u0e01\\u0e0b\\u0e35\\u0e48\", \"nation\": \"\\u0e44\\u0e17\\u0e22\", \"treat\": \"no\", \"recover\": \"yes\"}, {\"age\": 28.0, \"gender\": \"\\u0e0a\\u0e32\\u0e22\", \"occupation\": \"\\u0e19\\u0e31\\u0e01\\u0e17\\u0e48\\u0e2d\\u0e07\\u0e40\\u0e17\\u0e35\\u0e48\\u0e22\\u0e27\", \"nation\": \"\\u0e08\\u0e35\\u0e19\", \"treat\": \"no\", \"recover\": \"yes\"}, {\"age\": 30.0, \"gender\": \"\\u0e0a\\u0e32\\u0e22\", \"occupation\": \"\\u0e19\\u0e31\\u0e01\\u0e17\\u0e48\\u0e2d\\u0e07\\u0e40\\u0e17\\u0e35\\u0e48\\u0e22\\u0e27\", \"nation\": \"\\u0e08\\u0e35\\u0e19\", \"treat\": \"no\", \"recover\": \"yes\"}, {\"age\": 33.0, \"gender\": \"\\u0e2b\\u0e0d\\u0e34\\u0e07\", \"occupation\": \"\\u0e19\\u0e31\\u0e01\\u0e17\\u0e48\\u0e2d\\u0e07\\u0e40\\u0e17\\u0e35\\u0e48\\u0e22\\u0e27\", \"nation\": \"\\u0e08\\u0e35\\u0e19\", \"treat\": \"no\", \"recover\": \"yes\"}, {\"age\": 43.0, \"gender\": \"\\u0e2b\\u0e0d\\u0e34\\u0e07\", \"occupation\": \"\", \"nation\": \"\\u0e44\\u0e17\\u0e22\", \"treat\": \"no\", \"recover\": \"yes\"}, {\"age\": 49.0, \"gender\": \"\\u0e0a\\u0e32\\u0e22\", \"occupation\": \"\", \"nation\": \"\\u0e44\\u0e17\\u0e22\", \"treat\": \"no\", \"recover\": \"yes\"}, {\"age\": 33.0, \"gender\": \"\\u0e2b\\u0e0d\\u0e34\\u0e07\", \"occupation\": \"\\u0e19\\u0e31\\u0e01\\u0e17\\u0e48\\u0e2d\\u0e07\\u0e40\\u0e17\\u0e35\\u0e48\\u0e22\\u0e27\", \"nation\": \"\\u0e08\\u0e35\\u0e19\", \"treat\": \"no\", \"recover\": \"yes\"}, {\"age\": 45.0, \"gender\": \"\\u0e0a\\u0e32\\u0e22\", \"occupation\": \"\\u0e42\\u0e0a\\u0e40\\u0e1f\\u0e2d\\u0e23\\u0e4c\\u0e23\\u0e16\\u0e23\\u0e31\\u0e1a\\u0e08\\u0e49\\u0e32\\u0e07\", \"nation\": \"\\u0e44\\u0e17\\u0e22\", \"treat\": \"no\", \"recover\": \"yes\"}, {\"age\": 31.0, \"gender\": \"\\u0e2b\\u0e0d\\u0e34\\u0e07\", \"occupation\": \"\\u0e19\\u0e31\\u0e01\\u0e17\\u0e48\\u0e2d\\u0e07\\u0e40\\u0e17\\u0e35\\u0e48\\u0e22\\u0e27\", \"nation\": \"\\u0e08\\u0e35\\u0e19\", \"treat\": \"no\", \"recover\": \"yes\"}, {\"age\": 70.0, \"gender\": \"\\u0e0a\\u0e32\\u0e22\", \"occupation\": \"\\u0e42\\u0e0a\\u0e40\\u0e1f\\u0e2d\\u0e23\\u0e4c\\u0e23\\u0e16\\u0e1a\\u0e31\\u0e2a\", \"nation\": \"\\u0e44\\u0e17\\u0e22\", \"treat\": \"yes\", \"recover\": \"no\"}, {\"age\": 35.0, \"gender\": \"\\u0e44\\u0e21\\u0e48\\u0e23\\u0e30\\u0e1a\\u0e38\", \"occupation\": \"\\u0e19\\u0e31\\u0e01\\u0e17\\u0e48\\u0e2d\\u0e07\\u0e40\\u0e17\\u0e35\\u0e48\\u0e22\\u0e27\", \"nation\": \"\\u0e08\\u0e35\\u0e19\", \"treat\": \"yes\", \"recover\": \"no\"}, {\"age\": 35.0, \"gender\": \"\\u0e0a\\u0e32\\u0e22\", \"occupation\": \"\\u0e1e\\u0e19\\u0e31\\u0e01\\u0e07\\u0e32\\u0e19\\u0e02\\u0e32\\u0e22\", \"nation\": \"\\u0e44\\u0e17\\u0e22\", \"treat\": \"no\", \"recover\": \"no\"}, {\"age\": 56.0, \"gender\": \"\\u0e2b\\u0e0d\\u0e34\\u0e07\", \"occupation\": \"\\u0e19\\u0e31\\u0e01\\u0e17\\u0e48\\u0e2d\\u0e07\\u0e40\\u0e17\\u0e35\\u0e48\\u0e22\\u0e27\", \"nation\": \"\\u0e08\\u0e35\\u0e19\", \"treat\": \"no\", \"recover\": \"yes\"}, {\"age\": 32.0, \"gender\": \"\\u0e44\\u0e21\\u0e48\\u0e23\\u0e30\\u0e1a\\u0e38\", \"occupation\": \"\\u0e19\\u0e31\\u0e01\\u0e17\\u0e48\\u0e2d\\u0e07\\u0e40\\u0e17\\u0e35\\u0e48\\u0e22\\u0e27\", \"nation\": \"\\u0e08\\u0e35\\u0e19\", \"treat\": \"yes\", \"recover\": \"no\"}, {\"age\": 62.0, \"gender\": \"\\u0e0a\\u0e32\\u0e22\", \"occupation\": \"\\u0e19\\u0e31\\u0e01\\u0e17\\u0e48\\u0e2d\\u0e07\\u0e40\\u0e17\\u0e35\\u0e48\\u0e22\\u0e27\", \"nation\": \"\\u0e08\\u0e35\\u0e19\", \"treat\": \"no\", \"recover\": \"yes\"}, {\"age\": 3.0, \"gender\": \"\\u0e2b\\u0e0d\\u0e34\\u0e07\", \"occupation\": \"\", \"nation\": \"\\u0e44\\u0e17\\u0e22\", \"treat\": \"no\", \"recover\": \"yes\"}, {\"age\": 25.0, \"gender\": \"\\u0e0a\\u0e32\\u0e22\", \"occupation\": \"\\u0e44\\u0e01\\u0e14\\u0e4c\", \"nation\": \"\\u0e44\\u0e17\\u0e22\", \"treat\": \"no\", \"recover\": \"yes\"}, {\"age\": 54.0, \"gender\": \"\\u0e2b\\u0e0d\\u0e34\\u0e07\", \"occupation\": \"\\u0e19\\u0e31\\u0e01\\u0e17\\u0e48\\u0e2d\\u0e07\\u0e40\\u0e17\\u0e35\\u0e48\\u0e22\\u0e27\", \"nation\": \"\\u0e08\\u0e35\\u0e19\", \"treat\": \"no\", \"recover\": \"yes\"}, {\"age\": 35.0, \"gender\": \"\\u0e2b\\u0e0d\\u0e34\\u0e07\", \"occupation\": \"\\u0e1e\\u0e22\\u0e32\\u0e1a\\u0e32\\u0e25\", \"nation\": \"\\u0e44\\u0e17\\u0e22\", \"treat\": \"no\", \"recover\": \"yes\"}, {\"age\": 68.0, \"gender\": \"\\u0e2b\\u0e0d\\u0e34\\u0e07\", \"occupation\": \"\\u0e19\\u0e31\\u0e01\\u0e17\\u0e48\\u0e2d\\u0e07\\u0e40\\u0e17\\u0e35\\u0e48\\u0e22\\u0e27\", \"nation\": \"\\u0e08\\u0e35\\u0e19\", \"treat\": \"yes\", \"recover\": \"no\"}, {\"age\": 31.0, \"gender\": \"\\u0e2b\\u0e0d\\u0e34\\u0e07\", \"occupation\": \"\\u0e41\\u0e21\\u0e48\\u0e1a\\u0e49\\u0e32\\u0e19\", \"nation\": \"\\u0e44\\u0e17\\u0e22\", \"treat\": \"yes\", \"recover\": \"no\"}, {\"age\": 29.0, \"gender\": \"\\u0e0a\\u0e32\\u0e22\", \"occupation\": \"\\u0e42\\u0e0a\\u0e40\\u0e1f\\u0e2d\\u0e23\\u0e4c\", \"nation\": \"\\u0e44\\u0e17\\u0e22\", \"treat\": \"yes\", \"recover\": \"no\"}, {\"age\": 65.0, \"gender\": \"\\u0e0a\\u0e32\\u0e22\", \"occupation\": \"\", \"nation\": \"\\u0e44\\u0e17\\u0e22\", \"treat\": \"yes\", \"recover\": \"no\"}, {\"age\": 62.0, \"gender\": \"\\u0e2b\\u0e0d\\u0e34\\u0e07\", \"occupation\": \"\", \"nation\": \"\\u0e44\\u0e17\\u0e22\", \"treat\": \"yes\", \"recover\": \"no\"}, {\"age\": 8.0, \"gender\": \"\\u0e0a\\u0e32\\u0e22\", \"occupation\": \"\", \"nation\": \"\\u0e44\\u0e17\\u0e22\", \"treat\": \"yes\", \"recover\": \"no\"}, {\"age\": 25.0, \"gender\": \"\\u0e0a\\u0e32\\u0e22\", \"occupation\": \"\\u0e44\\u0e01\\u0e14\\u0e4c\", \"nation\": \"\\u0e44\\u0e17\\u0e22\", \"treat\": \"yes\", \"recover\": \"no\"}, {\"age\": 21.0, \"gender\": \"\\u0e0a\\u0e32\\u0e22\", \"occupation\": \"\\u0e1e\\u0e19\\u0e31\\u0e01\\u0e07\\u0e32\\u0e19\\u0e02\\u0e32\\u0e22\", \"nation\": \"\\u0e44\\u0e17\\u0e22\", \"treat\": \"yes\", \"recover\": \"no\"}, {\"age\": 22.0, \"gender\": \"\\u0e2b\\u0e0d\\u0e34\\u0e07\", \"occupation\": \"\\u0e44\\u0e01\\u0e14\\u0e4c\", \"nation\": \"\\u0e44\\u0e17\\u0e22\", \"treat\": \"yes\", \"recover\": \"no\"}, {\"age\": 29.0, \"gender\": \"\\u0e0a\\u0e32\\u0e22\", \"occupation\": \"\\u0e1e\\u0e19\\u0e31\\u0e01\\u0e07\\u0e32\\u0e19\\u0e1a\\u0e23\\u0e34\\u0e29\\u0e31\\u0e17\", \"nation\": \"\\u0e2d\\u0e34\\u0e15\\u0e32\\u0e25\\u0e35\", \"treat\": \"yes\", \"recover\": \"no\"}, {\"age\": 42.0, \"gender\": \"\\u0e0a\\u0e32\\u0e22\", \"occupation\": \"\\u0e1e\\u0e19\\u0e31\\u0e01\\u0e07\\u0e32\\u0e19\\u0e1a\\u0e23\\u0e34\\u0e29\\u0e31\\u0e17\", \"nation\": \"\\u0e44\\u0e17\\u0e22\", \"treat\": \"yes\", \"recover\": \"no\"}, {\"age\": 22.0, \"gender\": \"\\u0e0a\\u0e32\\u0e22\", \"occupation\": \"\\u0e19\\u0e31\\u0e01\\u0e28\\u0e36\\u0e01\\u0e29\\u0e32\", \"nation\": \"\\u0e08\\u0e35\\u0e19\", \"treat\": \"yes\", \"recover\": \"no\"}, {\"age\": 20.0, \"gender\": \"\\u0e0a\\u0e32\\u0e22\", \"occupation\": \"\\u0e19\\u0e31\\u0e01\\u0e28\\u0e36\\u0e01\\u0e29\\u0e32\", \"nation\": \"\\u0e44\\u0e17\\u0e22\", \"treat\": \"yes\", \"recover\": \"no\"}, {\"age\": 43.0, \"gender\": \"\\u0e0a\\u0e32\\u0e22\", \"occupation\": \"\\u0e1e\\u0e19\\u0e31\\u0e01\\u0e07\\u0e32\\u0e19\\u0e1a\\u0e23\\u0e34\\u0e29\\u0e31\\u0e17\", \"nation\": \"\\u0e2d\\u0e31\\u0e07\\u0e01\\u0e24\\u0e29\", \"treat\": \"yes\", \"recover\": \"no\"}, {\"age\": 40.0, \"gender\": \"\\u0e0a\\u0e32\\u0e22\", \"occupation\": \"\\u0e1e\\u0e19\\u0e31\\u0e01\\u0e07\\u0e32\\u0e19\\u0e1a\\u0e23\\u0e34\\u0e29\\u0e31\\u0e17\", \"nation\": \"\\u0e44\\u0e17\\u0e22\", \"treat\": \"yes\", \"recover\": \"no\"}, {\"age\": 40.0, \"gender\": \"\\u0e0a\\u0e32\\u0e22\", \"occupation\": \"\\u0e1e\\u0e19\\u0e31\\u0e01\\u0e07\\u0e32\\u0e19\\u0e1a\\u0e23\\u0e34\\u0e29\\u0e31\\u0e17\", \"nation\": \"\\u0e44\\u0e17\\u0e22\", \"treat\": \"yes\", \"recover\": \"no\"}, {\"age\": 41.0, \"gender\": \"\\u0e2b\\u0e0d\\u0e34\\u0e07\", \"occupation\": \"\\u0e44\\u0e21\\u0e48\\u0e23\\u0e30\\u0e1a\\u0e38\", \"nation\": \"\\u0e44\\u0e17\\u0e22\", \"treat\": \"yes\", \"recover\": \"no\"}, {\"age\": 46.0, \"gender\": \"\\u0e2b\\u0e0d\\u0e34\\u0e07\", \"occupation\": \"\\u0e44\\u0e21\\u0e48\\u0e23\\u0e30\\u0e1a\\u0e38\", \"nation\": \"\\u0e44\\u0e17\\u0e22\", \"treat\": \"yes\", \"recover\": \"no\"}, {\"age\": 47.0, \"gender\": \"\\u0e0a\\u0e32\\u0e22\", \"occupation\": \"\\u0e44\\u0e21\\u0e48\\u0e23\\u0e30\\u0e1a\\u0e38\", \"nation\": \"\\u0e44\\u0e17\\u0e22\", \"treat\": \"yes\", \"recover\": \"no\"}, {\"age\": 21.0, \"gender\": \"\\u0e0a\\u0e32\\u0e22\", \"occupation\": \"\\u0e40\\u0e08\\u0e49\\u0e32\\u0e2b\\u0e19\\u0e49\\u0e32\\u0e17\\u0e35\\u0e48 \\u0e15\\u0e21.\", \"nation\": \"\\u0e44\\u0e17\\u0e22\", \"treat\": \"yes\", \"recover\": \"no\"}, {\"age\": 40.0, \"gender\": \"\\u0e0a\\u0e32\\u0e22\", \"occupation\": \"\\u0e40\\u0e08\\u0e49\\u0e32\\u0e2b\\u0e19\\u0e49\\u0e32\\u0e17\\u0e35\\u0e48\\u0e15\\u0e23\\u0e27\\u0e08\\u0e04\\u0e49\\u0e19 (\\u0e2a\\u0e19\\u0e32\\u0e21\\u0e1a\\u0e34\\u0e19)\", \"nation\": \"\\u0e44\\u0e17\\u0e22\", \"treat\": \"yes\", \"recover\": \"no\"}, {\"age\": 25.0, \"gender\": \"\\u0e0a\\u0e32\\u0e22\", \"occupation\": \"\\u0e1e\\u0e19\\u0e31\\u0e01\\u0e07\\u0e32\\u0e19\\u0e1a\\u0e23\\u0e34\\u0e29\\u0e31\\u0e17\", \"nation\": \"\\u0e44\\u0e17\\u0e22\", \"treat\": \"yes\", \"recover\": \"no\"}, {\"age\": 27.0, \"gender\": \"\\u0e2b\\u0e0d\\u0e34\\u0e07\", \"occupation\": \"\\u0e44\\u0e21\\u0e48\\u0e23\\u0e30\\u0e1a\\u0e38\", \"nation\": \"\\u0e44\\u0e17\\u0e22\", \"treat\": \"yes\", \"recover\": \"no\"}, {\"age\": 40.0, \"gender\": \"\\u0e0a\\u0e32\\u0e22\", \"occupation\": \"\\u0e44\\u0e21\\u0e48\\u0e23\\u0e30\\u0e1a\\u0e38\", \"nation\": \"\\u0e44\\u0e17\\u0e22\", \"treat\": \"yes\", \"recover\": \"no\"}, {\"age\": 36.0, \"gender\": \"\\u0e0a\\u0e32\\u0e22\", \"occupation\": \"\\u0e40\\u0e08\\u0e49\\u0e32\\u0e02\\u0e2d\\u0e07\\u0e01\\u0e34\\u0e08\\u0e01\\u0e32\\u0e23(\\u0e23\\u0e49\\u0e32\\u0e19\\u0e2d\\u0e32\\u0e2b\\u0e32\\u0e23)\", \"nation\": \"\\u0e2a\\u0e34\\u0e07\\u0e04\\u0e42\\u0e1b\\u0e23\\u0e4c\", \"treat\": \"no\", \"recover\": \"no\"}]}}, {\"mode\": \"vega-lite\"});\n",
       "</script>"
      ],
      "text/plain": [
       "alt.Chart(...)"
      ]
     },
     "execution_count": 70,
     "metadata": {},
     "output_type": "execute_result"
    }
   ],
   "source": [
    "import xlrd\n",
    "import pandas as pd\n",
    "import altair\n",
    "\n",
    "loc = (r'C:\\Users\\chinn\\OneDrive\\Desktop\\Covid19\\Covid-19-Patients-new.xlsx')\n",
    "\n",
    "wb = xlrd.open_workbook(loc)\n",
    "sheet = wb.sheet_by_index(0)\n",
    "\n",
    "gender= list()\n",
    "age= list()\n",
    "occupation= list()\n",
    "nation= list()\n",
    "treat=list()\n",
    "recover=list()\n",
    "die=list()\n",
    "for i in range(9,69):\n",
    "    treat.append(sheet.cell_value(i,18))\n",
    "    recover.append(sheet.cell_value(i,19))\n",
    "    nation.append(sheet.cell_value(i,3))\n",
    "    gender.append(sheet.cell_value(i,4))\n",
    "    age.append(sheet.cell_value(i,5))\n",
    "    occupation.append(sheet.cell_value(i,6))\n",
    "for i in range(len(recover)):\n",
    "    if treat [i] == 1:\n",
    "        treat[i] = 'yes'\n",
    "    else:\n",
    "        treat[i] ='no'\n",
    "    if recover[i] == 1:\n",
    "        recover[i] = 'yes'\n",
    "    else:\n",
    "        recover[i] = 'no'\n",
    "df=pd.DataFrame({'age':age,'gender':gender,'occupation':occupation,'nation':nation,'treat':treat,'recover':recover})\n",
    "df=df.drop(59,axis=0)\n",
    "alt.Chart(df).mark_bar().encode(x='age:O',y='count(age)',column='treat',color=alt.Color('recover:N', scale=alt.Scale(scheme='pastel1')))"
   ]
  }
 ],
 "metadata": {
  "kernelspec": {
   "display_name": "Python 3",
   "language": "python",
   "name": "python3"
  },
  "language_info": {
   "codemirror_mode": {
    "name": "ipython",
    "version": 3
   },
   "file_extension": ".py",
   "mimetype": "text/x-python",
   "name": "python",
   "nbconvert_exporter": "python",
   "pygments_lexer": "ipython3",
   "version": "3.7.4"
  }
 },
 "nbformat": 4,
 "nbformat_minor": 2
}
